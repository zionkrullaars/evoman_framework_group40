{
 "cells": [
  {
   "cell_type": "code",
   "execution_count": 4,
   "metadata": {},
   "outputs": [
    {
     "name": "stdout",
     "output_type": "stream",
     "text": [
      "[2 6 7]\n"
     ]
    }
   ],
   "source": [
    "import numpy as np\n",
    "\n",
    "kaas = np.array([1,2,3,4,5,6,7,8,9,10])\n",
    "sel = np.array([1,5,6])\n",
    "\n",
    "print(kaas[sel])"
   ]
  },
  {
   "cell_type": "code",
   "execution_count": 13,
   "metadata": {},
   "outputs": [
    {
     "name": "stdout",
     "output_type": "stream",
     "text": [
      "5.5\n",
      "2.8722813232690143\n",
      "[52.94562647 53.94562647 54.94562647 55.94562647 56.94562647 57.94562647\n",
      " 58.94562647 59.94562647 60.94562647 61.94562647]\n"
     ]
    }
   ],
   "source": [
    "from optimization_specialist_demo import sigscaler\n",
    "import numpy as np\n",
    "\n",
    "fitness = np.array([1,2,3,4,5,6,7,8,9,10])\n",
    "print(fitness.mean())\n",
    "print(fitness.std())\n",
    "fitness2d = np.array([[1,2,3,4,5,6,7,8,9,10], [1,2,3,4,5,6,7,8,9,10]])\n",
    "c = 1\n",
    "for i in range(100):\n",
    "    fitness2d = np.vstack((fitness2d, sigscaler(fitness, c)))\n",
    "    c += 0.02\n",
    "print(sigscaler(fitness, 1))"
   ]
  }
 ],
 "metadata": {
  "kernelspec": {
   "display_name": "CUT",
   "language": "python",
   "name": "python3"
  },
  "language_info": {
   "codemirror_mode": {
    "name": "ipython",
    "version": 3
   },
   "file_extension": ".py",
   "mimetype": "text/x-python",
   "name": "python",
   "nbconvert_exporter": "python",
   "pygments_lexer": "ipython3",
   "version": "3.12.3"
  }
 },
 "nbformat": 4,
 "nbformat_minor": 2
}
